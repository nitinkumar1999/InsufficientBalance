{
 "cells": [
  {
   "cell_type": "code",
   "execution_count": 6,
   "metadata": {},
   "outputs": [
    {
     "name": "stdout",
     "output_type": "stream",
     "text": [
      "123 {'Name': 'Sanjay', 'Balance': 9000}\n",
      "101 {'Name': 'Sameer', 'Balance': 8000}\n",
      "423 {'Name': 'Ajay', 'Balance': 7000}\n",
      "133 {'Name': 'Sanket', 'Balance': 6000}\n",
      "\n",
      "123 {'Name': 'Sanjay', 'Balance': 10000}\n",
      "101 {'Name': 'Sameer', 'Balance': 8000}\n",
      "423 {'Name': 'Ajay', 'Balance': 9000}\n",
      "133 {'Name': 'Sanket', 'Balance': 6000}\n",
      "\n",
      "Amount withdraw successfully\n",
      "123 {'Name': 'Sanjay', 'Balance': 10000}\n",
      "101 {'Name': 'Sameer', 'Balance': 8000}\n",
      "423 {'Name': 'Ajay', 'Balance': 6000}\n",
      "133 {'Name': 'Sanket', 'Balance': 6000}\n",
      "\n",
      "Withdrawal denied\n",
      "Insufficient balance\n",
      "{'Acc no': 101, 'Current Balance': 8000}\n",
      "(101, 8000)\n",
      "(101, 8000)\n"
     ]
    }
   ],
   "source": [
    "class InsufficientBalanceError(Exception):\n",
    "    def __init__(self,accno,cb):\n",
    "        self.accno=accno\n",
    "        self.curbal=cb\n",
    "    def get_details(self):\n",
    "        return{'Acc no':self.accno,'Current Balance':self.curbal}\n",
    "class Customers:\n",
    "    def __init__(self):\n",
    "        self.dct={}\n",
    "    def append(self,accno,n,bal):\n",
    "        self.dct[accno]={'Name':n,'Balance':bal}\n",
    "    def deposit(self,accno,amt):\n",
    "        d=self.dct[accno]\n",
    "        d['Balance']=d['Balance']+amt\n",
    "        self.dct[accno]=d\n",
    "    def display(self):\n",
    "        for k,v in self.dct.items():\n",
    "            print(k,v)\n",
    "        print()\n",
    "    def withdraw(self,accno,amt):\n",
    "        d=self.dct[accno]\n",
    "        curbal=d['Balance']\n",
    "        if curbal-amt<5000:\n",
    "            raise InsufficientBalanceError(accno,curbal)\n",
    "        else:\n",
    "            d['Balance']=d['Balance']-amt\n",
    "            self.dct[accno]=d\n",
    "            \n",
    "c=Customers()\n",
    "c.append(123,'Sanjay',9000)\n",
    "c.append(101,'Sameer',8000)\n",
    "c.append(423,'Ajay',7000)\n",
    "c.append(133,'Sanket',6000)\n",
    "c.display()\n",
    "c.deposit(123,1000)\n",
    "c.deposit(423,2000)\n",
    "c.display()\n",
    "\n",
    "try:\n",
    "    c.withdraw(423,3000)\n",
    "    print('Amount withdraw successfully')\n",
    "    c.display()\n",
    "    c.withdraw(101,5000)\n",
    "    print('Amount withdraw successfully')\n",
    "    c.display()\n",
    "except InsufficientBalanceError as ibe:\n",
    "    print('Withdrawal denied')\n",
    "    print('Insufficient balance')\n",
    "    print(ibe.get_details())\n",
    "    print(ibe.args)\n",
    "    print(ibe)"
   ]
  }
 ],
 "metadata": {
  "kernelspec": {
   "display_name": "Python 3",
   "language": "python",
   "name": "python3"
  },
  "language_info": {
   "codemirror_mode": {
    "name": "ipython",
    "version": 3
   },
   "file_extension": ".py",
   "mimetype": "text/x-python",
   "name": "python",
   "nbconvert_exporter": "python",
   "pygments_lexer": "ipython3",
   "version": "3.7.6"
  }
 },
 "nbformat": 4,
 "nbformat_minor": 4
}
